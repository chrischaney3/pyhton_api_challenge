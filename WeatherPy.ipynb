{
 "cells": [
  {
   "cell_type": "markdown",
   "metadata": {},
   "source": [
    "# WeatherPy\n",
    "\n",
    "---\n",
    "\n",
    "## Starter Code to Generate Random Geographic Coordinates and a List of Cities"
   ]
  },
  {
   "cell_type": "code",
   "execution_count": null,
   "metadata": {},
   "outputs": [],
   "source": [
    "# Dependencies and Setup\n",
    "import matplotlib.pyplot as plt\n",
    "import pandas as pd\n",
    "import numpy as np\n",
    "import requests\n",
    "import time\n",
    "from datetime import date\n",
    "from scipy.stats import linregress\n",
    "#from scipy.stats import pearsonr\n",
    "\n",
    "# Impor the OpenWeatherMap API key\n",
    "from api_keys import weather_api_key\n",
    "\n",
    "# Import citipy to determine the cities based on latitude and longitude\n",
    "from citipy import citipy\n"
   ]
  },
  {
   "cell_type": "markdown",
   "metadata": {},
   "source": [
    "### Generate cities list by using the citipy Library\n",
    "\n"
   ]
  },
  {
   "cell_type": "code",
   "execution_count": null,
   "metadata": {},
   "outputs": [],
   "source": [
    "# Empty list for holding the latitude and longitude combinations\n",
    "directions = []\n",
    "\n",
    "# Empty list for holding the cities names\n",
    "cities = []\n",
    "\n",
    "# Range of latitudes and longitudes\n",
    "lat_range = (-90, 90)\n",
    "lng_range = (-180, 180)\n",
    "\n",
    "# Create a set of random lat and lng combinations\n",
    "latitudes = np.random.uniform(lat_range[0], lat_range[1], size=2500)\n",
    "longtudes = np.random.uniform(lng_range[0], lng_range[1], size=2500)\n",
    "directions = zip(lats, lngs)\n",
    "\n",
    "# Identify nearest city for each lat, lng combination\n",
    "for lat_lng in lat_lngs:\n",
    "    city = citipy.nearest_city(lat_lng[0], lat_lng[1]).city_name\n",
    "    \n",
    "    # If the city is unique, then add it to a our cities list\n",
    "    if city not in cities:\n",
    "        cities.append(city)\n",
    "        \n",
    "    # Stop the loop once we have 623 unique cities\n",
    "    if len(cities) == 623:\n",
    "        break\n",
    "\n",
    "# Print the city count to confirm sufficient count\n",
    "print(f\"Number of cities: {len(cities)}\")\n",
    "\n"
   ]
  },
  {
   "cell_type": "markdown",
   "metadata": {},
   "source": [
    "## Requirement 1: Create Plots to Showcase the Relationship Between Weather Variables and Latitude\n",
    "\n",
    "### Use the OpenWeatherMap API to retrieve weather data from the cities list generated in the started code"
   ]
  },
  {
   "cell_type": "code",
   "execution_count": null,
   "metadata": {},
   "outputs": [],
   "source": [
    "url = \"http://api.openweathermap.org/data/2.5/weather?\""
   ]
  },
  {
   "cell_type": "code",
   "execution_count": null,
   "metadata": {},
   "outputs": [],
   "source": [
    "# Define an empty list to fetch the weather data for each city\n",
    "city_data = []\n"
   ]
  },
  {
   "cell_type": "code",
   "execution_count": null,
   "metadata": {},
   "outputs": [],
   "source": [
    "# Print to logger\n",
    "print(\"Beginning Data Retrieval     \")\n",
    "print(\"-----------------------------\")\n"
   ]
  },
  {
   "cell_type": "code",
   "execution_count": null,
   "metadata": {},
   "outputs": [],
   "source": [
    "# Create an empty DataFrame with the desired columns\n",
    "city_df = pd.DataFrame(columns=[\"City\", \"Lat\", \"Lng\", \"Max Temp\", \"Humidity\", \"Cloudiness\", \"Wind Speed\", \"Country\", \"Date\"])\n",
    "\n",
    "# Show Record Count\n",
    "#print(city_data_df.count())\n",
    "\n",
    "# Create counters\n",
    "#record_count = 1\n",
    "#set_count = 1\n",
    "\n",
    "# Loop through all the cities in our list to fetch weather data\n",
    "for i, city in enumerate(cities):\n",
    "    # Create endpoint URL with each city\n",
    "    city_url = f\"{url}q={city}&units=imperial&appid={weather_api_key}\"\n",
    "\n",
    "    # Run an API request for each of the cities\n",
    "    try:\n",
    "        # Parse the JSON and retrieve data\n",
    "        city_weather = requests.get(city_url).json()\n",
    "\n",
    "        # Extract relevant data from the API response\n",
    "        city_name = city_weather[\"name\"]\n",
    "        city_lat = city_weather[\"coord\"][\"lat\"]\n",
    "        city_lon = city_weather[\"coord\"][\"lon\"]\n",
    "        city_temp = city_weather[\"main\"][\"temp_max\"]\n",
    "        city_humidity = city_weather[\"main\"][\"humidity\"]\n",
    "        city_clouds = city_weather[\"clouds\"][\"all\"]\n",
    "        city_wind_speed = city_weather[\"wind\"][\"speed\"]\n",
    "        city_country = city_weather[\"sys\"][\"country\"]\n",
    "        city_date = city_weather[\"dt\"]\n",
    "\n",
    "        # Add the data for this city to the city_data DataFrame\n",
    "        city_df.loc[i] = [city_name, city_lat, city_lon, city_temp, city_humidity, city_clouds, city_wind_speed, city_country, city_date]\n",
    "\n",
    "        # Log the progress of the API requests\n",
    "        print(f\"Processing Record {i+1} | {city_name}\")\n",
    "        \n",
    "    except:\n",
    "        print(f\"City not found: {city}\")\n",
    "        pass\n",
    "\n",
    "# Show Record Count\n",
    "print(city_df.count())\n"
   ]
  },
  {
   "cell_type": "code",
   "execution_count": null,
   "metadata": {},
   "outputs": [],
   "source": [
    "# Show count of non-null values in each column\n",
    "print(city_data_df.count())\n"
   ]
  },
  {
   "cell_type": "code",
   "execution_count": null,
   "metadata": {},
   "outputs": [],
   "source": [
    "# Export the City_Data into a csv\n",
    "city_df.to_csv(\"output_data/cities.csv\", index_label=\"City_Data_Details\")\n",
    "\n",
    "# Display the first 5 rows of the DataFrame\n",
    "city_df.head()\n"
   ]
  },
  {
   "cell_type": "code",
   "execution_count": null,
   "metadata": {},
   "outputs": [],
   "source": [
    "# Build scatter plot for latitude vs. temperature\n",
    "plt.scatter(city_df[\"Lat\"], city_data_df[\"Max Temp\"], edgecolors=\"black\", linewidths=1, marker=\"o\", alpha=0.8)\n",
    "\n",
    "# Incorporate the other graph properties\n",
    "plt.title(\"City Latitude vs. Max Temperature (04/19/2023)\")\n",
    "plt.ylabel(\"Max Temperature (F)\")\n",
    "plt.xlabel(\"Latitude\")\n",
    "plt.grid(True)\n",
    "\n",
    "# Save the figure\n",
    "plt.savefig(\"output_data/Fig1.png\")\n",
    "\n",
    "# Show plot\n",
    "plt.show()"
   ]
  },
  {
   "cell_type": "code",
   "execution_count": null,
   "metadata": {},
   "outputs": [],
   "source": [
    "# Build the scatter plots for latitude vs. humidity\n",
    "plt.scatter(city_df[\"Lat\"], city_df[\"Humidity\"], edgecolor=\"black\", linewidths=1, marker=\"o\", alpha=0.8)\n",
    "\n",
    "# Incorporate the other graph properties\n",
    "plt.title(\"City Latitude vs. Humidity (04/19/23)\")\n",
    "plt.ylabel(\"Humidity (%)\")\n",
    "plt.xlabel(\"Latitude\")\n",
    "plt.grid(True)\n",
    "\n",
    "# Save the figure\n",
    "plt.savefig(\"output_data/Fig2.png\")\n",
    "\n",
    "# Show plot\n",
    "plt.show()\n",
    "\n",
    "    "
   ]
  },
  {
   "cell_type": "code",
   "execution_count": null,
   "metadata": {},
   "outputs": [],
   "source": [
    "# Print r value\n",
    "from scipy.stats import pearsonr\n",
    "\n",
    "\n",
    "# Calculate r value and p value for latitude vs. humidity\n",
    "r, p = pearsonr(city_df[\"Lat\"], city_df[\"Humidity\"])\n",
    "print(f\"The r value between latitude and humidity is: {r:.2f}\")\n",
    "\n",
    "# Calculate r value and p value for latitude vs. cloudiness\n",
    "r, p = pearsonr(city_df[\"Lat\"], city_df[\"Cloudiness\"])\n",
    "print(f\"The r value between latitude and cloudiness is: {r:.2f}\")\n",
    "\n",
    "# Calculate r value and p value for latitude vs. wind speed\n",
    "r, p = pearsonr(city_df[\"Lat\"], city_df[\"Wind Speed\"])\n",
    "print(f\"The r value between latitude and wind speed is: {r:.2f}\")\n",
    "\n",
    "# Calculate r value and p value for latitude vs. max temperature\n",
    "r, p = pearsonr(city_df[\"Lat\"], city_df[\"Max Temp\"])\n",
    "print(f\"The r value between latitude and max temperature is: {r:.2f}\")\n",
    "    \n",
    "   "
   ]
  },
  {
   "cell_type": "code",
   "execution_count": null,
   "metadata": {},
   "outputs": [],
   "source": [
    " # Save plot\n",
    "plt.savefig('my_plot.png')"
   ]
  },
  {
   "cell_type": "markdown",
   "metadata": {},
   "source": [
    "---\n",
    "\n",
    "## Requirement 2: Compute Linear Regression for Each Relationship\n"
   ]
  },
  {
   "cell_type": "code",
   "execution_count": null,
   "metadata": {},
   "outputs": [],
   "source": [
    "#Read the CSV file\n",
    "city_data = pd.read_csv(\"output_data/cities.csv\")\n",
    "\n",
    "# Display the first 5 rows of the DataFrame\n",
    "city_data.head()"
   ]
  },
  {
   "cell_type": "code",
   "execution_count": null,
   "metadata": {},
   "outputs": [],
   "source": [
    "# Convert city_data list to DataFrame\n",
    "city_df = pd.DataFrame(city_data)\n",
    "\n",
    "# Create new DataFrame for northern hemisphere (latitudes >= 0)\n",
    "city_data_north = city_df.loc[city_df['Lat'] >= 0]\n",
    "\n",
    "# Display first few rows of northern hemisphere DataFrame\n",
    "city_data_north.head()\n",
    "\n"
   ]
  },
  {
   "cell_type": "code",
   "execution_count": null,
   "metadata": {},
   "outputs": [],
   "source": [
    "# Create a DataFrame with the Southern Hemisphere data (Latitude < 0)\n",
    "city_data_south = city_data[city_data['Lat'] < 0]\n",
    "\n",
    "# Display sample data\n",
    "city_data_south.head()"
   ]
  },
  {
   "cell_type": "markdown",
   "metadata": {},
   "source": [
    "###  Temperature vs. Latitude Linear Regression Plot"
   ]
  },
  {
   "cell_type": "code",
   "execution_count": null,
   "metadata": {},
   "outputs": [],
   "source": [
    "# Linear regression on Northern Hemisphere\n",
    "# Import dependencies\n",
    "#import matplotlib.pyplot as plt\n",
    "#from scipy.stats import linregress\n",
    "\n",
    "# Define x and y values\n",
    "x_values = city_data_north['Lat']\n",
    "y_values = city_data_north['Max Temp']\n",
    "\n",
    "# Perform linear regression\n",
    "slope, intercept, rvalue, pvalue, stderr = linregress(x_values, y_values)\n",
    "\n",
    "# Calculate regression line\n",
    "regress_values = x_values * slope + intercept\n",
    "\n",
    "# Create plot\n",
    "plt.scatter(x_values, y_values)\n",
    "plt.plot(x_values, regress_values, color='red')\n",
    "plt.xlabel('Latitude')\n",
    "plt.ylabel('Max Temperature (F)')\n",
    "plt.title('Northern Hemisphere - Max Temperature vs. Latitude Linear Regression')\n",
    "\n",
    "# Print r-value\n",
    "print(f\"The r-value is: {rvalue}\")\n",
    "\n",
    "# Show plot\n",
    "plt.show()\n"
   ]
  },
  {
   "cell_type": "code",
   "execution_count": null,
   "metadata": {},
   "outputs": [],
   "source": [
    "# Linear regression on Southern Hemisphere\n",
    "# Define x and y values\n",
    "x_values = city_data_south['Lat']\n",
    "y_values = city_data_south['Max Temp']\n",
    "\n",
    "# Perform linear regression\n",
    "(slope, intercept, rvalue, pvalue, stderr) = linregress(x_values, y_values)\n",
    "\n",
    "# Calculate regression values\n",
    "regress_values = x_values * slope + intercept\n",
    "\n",
    "# Create equation of line\n",
    "line_eq = \"y = \" + str(round(slope,2)) + \"x + \" + str(round(intercept,2))\n",
    "\n",
    "# Create scatter plot with linear regression line\n",
    "plt.scatter(x_values, y_values)\n",
    "plt.plot(x_values,regress_values,\"r-\")\n",
    "\n",
    "# Add equation of line to plot\n",
    "plt.annotate(line_eq,(-50,80),fontsize=15,color=\"red\")\n",
    "\n",
    "# Add labels and title to plot\n",
    "plt.xlabel('Latitude')\n",
    "plt.ylabel('Max Temperature (F)')\n",
    "plt.title('Southern Hemisphere - Max Temp vs. Latitude Linear Regression')\n",
    "\n",
    "# Print r-value\n",
    "print(f\"The r-value is: {rvalue}\")\n",
    "\n",
    "# Show plot\n",
    "plt.show()\n"
   ]
  },
  {
   "cell_type": "markdown",
   "metadata": {},
   "source": [
    "**Discussion about the linear relationship:** The two linear regression codes show that there is a relationship between latitude and maximum temperature in the northern and southern hemispheres. In the northern hemisphere, there is a strong negative correlation between latitude and maximum temperature, while in the southern hemisphere, there is a moderate positive correlation. These results suggest that latitude is a key factor in determining maximum temperature, and that this relationship varies between the hemispheres."
   ]
  },
  {
   "cell_type": "markdown",
   "metadata": {},
   "source": [
    "### Humidity vs. Latitude Linear Regression Plot"
   ]
  },
  {
   "cell_type": "code",
   "execution_count": null,
   "metadata": {},
   "outputs": [],
   "source": [
    "# Northern Hemisphere Humidity vs. Latitude Linear Regression Plot\n",
    "\n",
    "# Define x and y values\n",
    "x_values = city_data_north['Lat']\n",
    "y_values = city_data_north['Humidity']\n",
    "\n",
    "# Perform linear regression\n",
    "slope, intercept, rvalue, pvalue, stderr = linregress(x_values, y_values)\n",
    "\n",
    "# Calculate regression line\n",
    "regress_values = x_values * slope + intercept\n",
    "\n",
    "# Create plot\n",
    "plt.scatter(x_values, y_values)\n",
    "plt.plot(x_values, regress_values, color='red')\n",
    "plt.xlabel('Latitude')\n",
    "plt.ylabel('Humidity(F)')\n",
    "plt.title('Northern Hemisphere - Humidity vs. Latitude Linear Regression')\n",
    "\n",
    "# Print r-value\n",
    "print(f\"The r-value is: {rvalue}\")\n",
    "\n",
    "# Show plot\n",
    "plt.show()\n",
    "\n",
    "\n",
    "\n"
   ]
  },
  {
   "cell_type": "code",
   "execution_count": null,
   "metadata": {},
   "outputs": [],
   "source": [
    "# Southern Hemisphere Humidity vs. Latitude Linear Regression Plot\n",
    "# Define x and y values\n",
    "x_values = city_data_south['Lat']\n",
    "y_values = city_data_south['Humidity']\n",
    "\n",
    "# Perform linear regression\n",
    "slope, intercept, rvalue, pvalue, stderr = linregress(x_values, y_values)\n",
    "\n",
    "# Calculate regression line\n",
    "regress_values = x_values * slope + intercept\n",
    "\n",
    "# Create plot\n",
    "plt.scatter(x_values, y_values)\n",
    "plt.plot(x_values, regress_values, color='red')\n",
    "plt.xlabel('Latitude')\n",
    "plt.ylabel('Humidity(F)')\n",
    "plt.title('Southern Hemisphere - Humidity vs. Latitude Linear Regression')\n",
    "\n",
    "# Print r-value\n",
    "print(f\"The r-value is: {rvalue}\")\n",
    "\n",
    "# Show plot\n",
    "plt.show()"
   ]
  },
  {
   "cell_type": "markdown",
   "metadata": {},
   "source": [
    "**Discussion about the linear relationship:** The linear regressions of the two codes show the relationship between humidity and latitude in the northern and southern hemispheres. The northern hemisphere has a weak positive correlation between humidity and latitude, with a positive slope on the regression line, while the southern hemisphere has a weak negative correlation between humidity and latitude, with a negative slope. These differences could be attributed to atmospheric circulation patterns and regional climate conditions."
   ]
  },
  {
   "cell_type": "markdown",
   "metadata": {},
   "source": [
    "### Cloudiness vs. Latitude Linear Regression Plot"
   ]
  },
  {
   "cell_type": "code",
   "execution_count": null,
   "metadata": {},
   "outputs": [],
   "source": [
    "# Northern Hemisphere Cloudiness vs. Latitude Linear Regression Plot\n",
    "# Define x and y values\n",
    "x_values = city_data_north['Lat']\n",
    "y_values = city_data_north['Cloudiness']\n",
    "\n",
    "# Perform linear regression\n",
    "slope, intercept, rvalue, pvalue, stderr = linregress(x_values, y_values)\n",
    "\n",
    "# Calculate regression line\n",
    "regress_values = x_values * slope + intercept\n",
    "\n",
    "# Create plot\n",
    "plt.scatter(x_values, y_values)\n",
    "plt.plot(x_values, regress_values, color='red')\n",
    "plt.xlabel('Latitude')\n",
    "plt.ylabel('Cloudiness(F)')\n",
    "plt.title('Northern Hemisphere - Cloudiness vs. Latitude Linear Regression')\n",
    "\n",
    "# Print r-value\n",
    "print(f\"The r-value is: {rvalue}\")\n",
    "\n",
    "# Show plot\n",
    "plt.show()"
   ]
  },
  {
   "cell_type": "code",
   "execution_count": null,
   "metadata": {},
   "outputs": [],
   "source": [
    "# Perform linear regression on latitude and cloudiness for Southern Hemisphere\n",
    "# Define x and y values\n",
    "x_values = city_data_south['Lat']\n",
    "y_values = city_data_south['Cloudiness']\n",
    "\n",
    "# Perform linear regression\n",
    "slope, intercept, rvalue, pvalue, stderr = linregress(x_values, y_values)\n",
    "\n",
    "# Calculate regression line\n",
    "regress_values = x_values * slope + intercept\n",
    "\n",
    "# Create plot\n",
    "plt.scatter(x_values, y_values)\n",
    "plt.plot(x_values, regress_values, color='red')\n",
    "plt.xlabel('Latitude')\n",
    "plt.ylabel('Cloudiness(F)')\n",
    "plt.title('Southern Hemisphere - Cloudiness vs. Latitude Linear Regression')\n",
    "\n",
    "# Print r-value\n",
    "print(f\"The r-value is: {rvalue}\")\n",
    "\n",
    "# Show plot\n",
    "plt.show()"
   ]
  },
  {
   "cell_type": "markdown",
   "metadata": {},
   "source": [
    "**Discussion about the linear relationship:** The two linear regression codes are examining the relationship between latitude and cloudiness in the northern and southern hemispheres. In the northern hemisphere, the scatter plot with a linear regression line shows a weak positive correlation between latitude and cloudiness. The r-value is printed and is close to 0, indicating little to no correlation. In the southern hemisphere, there is a similar weak positive correlation between latitude and cloudiness, as shown by the positive slope of the regression line and the r-value being close to 0. These results suggest that there is little to no relationship between latitude and cloudiness in either hemisphere."
   ]
  },
  {
   "cell_type": "markdown",
   "metadata": {},
   "source": [
    "### Wind Speed vs. Latitude Linear Regression Plot"
   ]
  },
  {
   "cell_type": "code",
   "execution_count": null,
   "metadata": {},
   "outputs": [],
   "source": [
    "# Northern Hemisphere\n",
    "# Define x and y values\n",
    "x_values = city_data_north['Lat']\n",
    "y_values = city_data_north['Wind Speed']\n",
    "\n",
    "# Perform linear regression\n",
    "slope, intercept, rvalue, pvalue, stderr = linregress(x_values, y_values)\n",
    "\n",
    "# Calculate regression line\n",
    "regress_values = x_values * slope + intercept\n",
    "\n",
    "# Create plot\n",
    "plt.scatter(x_values, y_values)\n",
    "plt.plot(x_values, regress_values, color='red')\n",
    "plt.xlabel('Latitude')\n",
    "plt.ylabel('Windspeed(F)')\n",
    "plt.title('Northern Hemisphere - Windspeed vs. Latitude Linear Regression')\n",
    "\n",
    "# Print r-value\n",
    "print(f\"The r-value is: {rvalue}\")\n",
    "\n",
    "# Show plot\n",
    "plt.show()\n"
   ]
  },
  {
   "cell_type": "code",
   "execution_count": null,
   "metadata": {},
   "outputs": [],
   "source": [
    "# Southern Hemisphere\n",
    "# Define x and y values\n",
    "x_values = city_data_south['Lat']\n",
    "y_values = city_data_south['Wind Speed']\n",
    "\n",
    "# Perform linear regression\n",
    "slope, intercept, rvalue, pvalue, stderr = linregress(x_values, y_values)\n",
    "\n",
    "# Calculate regression line\n",
    "regress_values = x_values * slope + intercept\n",
    "\n",
    "# Create plot\n",
    "plt.scatter(x_values, y_values)\n",
    "plt.plot(x_values, regress_values, color='red')\n",
    "plt.xlabel('Latitude')\n",
    "plt.ylabel('Windspeed(F)')\n",
    "plt.title('Southern Hemisphere - Windspeed vs. Latitude Linear Regression')\n",
    "\n",
    "# Print r-value\n",
    "print(f\"The r-value is: {rvalue}\")\n",
    "\n",
    "# Show plot\n",
    "plt.show()"
   ]
  },
  {
   "cell_type": "code",
   "execution_count": null,
   "metadata": {},
   "outputs": [],
   "source": []
  }
 ],
 "metadata": {
  "anaconda-cloud": {},
  "kernel_info": {
   "name": "python3"
  },
  "kernelspec": {
   "display_name": "PythonData",
   "language": "python",
   "name": "pythondata"
  },
  "language_info": {
   "codemirror_mode": {
    "name": "ipython",
    "version": 3
   },
   "file_extension": ".py",
   "mimetype": "text/x-python",
   "name": "python",
   "nbconvert_exporter": "python",
   "pygments_lexer": "ipython3",
   "version": "3.7.7"
  },
  "latex_envs": {
   "LaTeX_envs_menu_present": true,
   "autoclose": false,
   "autocomplete": true,
   "bibliofile": "biblio.bib",
   "cite_by": "apalike",
   "current_citInitial": 1,
   "eqLabelWithNumbers": true,
   "eqNumInitial": 1,
   "hotkeys": {
    "equation": "Ctrl-E",
    "itemize": "Ctrl-I"
   },
   "labels_anchors": false,
   "latex_user_defs": false,
   "report_style_numbering": false,
   "user_envs_cfg": false
  },
  "nteract": {
   "version": "0.12.3"
  }
 },
 "nbformat": 4,
 "nbformat_minor": 4
}
