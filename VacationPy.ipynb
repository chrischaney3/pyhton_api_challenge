{
 "cells": [
  {
   "cell_type": "markdown",
   "metadata": {},
   "source": [
    "# VacationPy\n",
    "---\n",
    "\n",
    "## Starter Code to Import Libraries and Load the Weather and Coordinates Data"
   ]
  },
  {
   "cell_type": "code",
   "execution_count": null,
   "metadata": {},
   "outputs": [],
   "source": [
    "# Dependencies and Setup\n",
    "import matplotlib.pyplot as plt\n",
    "import hvplot.pandas\n",
    "import pandas as pd\n",
    "import requests\n",
    "import numpy as np\n",
    "import gmaps\n",
    "from pprint import pprint\n",
    "import json\n",
    "\n",
    "# Import API key\n",
    "from api_keys import geoapify_key\n",
    "gmaps.configure(api_key = geoapify_key)\n",
    "\n",
    "# Turn off warning messages\n",
    "import warnings\n",
    "warnings.filterwarnings(\"ignore\")\n",
    "\n",
    "\n"
   ]
  },
  {
   "cell_type": "code",
   "execution_count": null,
   "metadata": {},
   "outputs": [],
   "source": [
    "# Load the CSV file created in Part 1 into a Pandas DataFrame\n",
    "city_df = pd.read_csv(\"output_data/cities.csv\")\n",
    "\n",
    "\n",
    "# Display sample data\n",
    "city_df.head()"
   ]
  },
  {
   "cell_type": "code",
   "execution_count": null,
   "metadata": {},
   "outputs": [],
   "source": [
    "\n",
    "city_df[\"Humidity\"] = city_df[\"Humidity\"].astype(int)"
   ]
  },
  {
   "cell_type": "markdown",
   "metadata": {},
   "source": [
    "---\n",
    "\n",
    "### Step 1: Create a map that displays a point for every city in the `city_data_df` DataFrame. The size of the point should be the humidity in each city."
   ]
  },
  {
   "cell_type": "code",
   "execution_count": null,
   "metadata": {},
   "outputs": [],
   "source": [
    "!jupyter nbextension enable --py gmaps\n",
    "\n"
   ]
  },
  {
   "cell_type": "code",
   "execution_count": null,
   "metadata": {},
   "outputs": [],
   "source": [
    "import folium\n",
    "\n",
    "# Define the map center and zoom level\n",
    "center = (20.0, 0.0)\n",
    "zoom_level = 2\n",
    "\n",
    "# Create the map\n",
    "m = folium.Map(location=center, zoom_start=zoom_level)\n",
    "\n",
    "# Add markers to the map\n",
    "for _, row in city_df.iterrows():\n",
    "    popup = f\"City: {row['City']}<br>Country: {row['Country']}<br>Humidity: {row['Humidity']}\"\n",
    "    folium.Marker([row['Lat'], row['Lng']], popup=popup, icon=folium.Icon(color='blue')).add_to(m)\n",
    "\n",
    "# Save the map as an HTML file\n",
    "m.save('my_map.html')\n"
   ]
  },
  {
   "cell_type": "markdown",
   "metadata": {},
   "source": [
    "### Step 2: Narrow down the `city_data_df` DataFrame to find your ideal weather condition"
   ]
  },
  {
   "cell_type": "code",
   "execution_count": null,
   "metadata": {},
   "outputs": [],
   "source": [
    "# Narrow down cities that fit criteria and drop any results with null values\n",
    "good_weather_df = city_df.dropna()\n",
    "\n",
    "# Display sample data\n",
    "good_weather_df\n"
   ]
  },
  {
   "cell_type": "code",
   "execution_count": null,
   "metadata": {},
   "outputs": [],
   "source": [
    "# Narrow down the DataFrame to find your ideal weather condition. For example:\n",
    "# A max temperature lower than 80 degrees but higher than 70.\n",
    "# Wind speed less than 10 mph.\n",
    "# Zero cloudiness.\n",
    "# Drop any rows that don't contain all three conditions. \n",
    "# You want to be sure the weather is ideal\n",
    "\n",
    "good_weather_df = pd.DataFrame(good_weather_df, columns = [\"City\", \"Max Temp\", \"Wind Speed\", \"Cloudiness\"])\n",
    "\n",
    "max_temp = (ideal_weather_df[\"Max Temp\"] <= 80) & (ideal_weather_df[\"Max Temp\"] > 70)\n",
    "wind_speed = ideal_weather_df[\"Wind Speed\"] < 10\n",
    "cloudiness = ideal_weather_df[\"Cloudiness\"] == 0\n",
    "\n",
    "# new_types_df[max_temp & wind_speed & cloudiness]\n",
    "good_weather_df[max_temp & wind_speed & cloudiness]\n"
   ]
  },
  {
   "cell_type": "markdown",
   "metadata": {},
   "source": [
    "### Step 3: Create a new DataFrame called `hotel_df`."
   ]
  },
  {
   "cell_type": "code",
   "execution_count": null,
   "metadata": {},
   "outputs": [],
   "source": [
    "# Use the Pandas copy function to create DataFrame called hotel_df to store the city, country, coordinates, and humidity\n",
    "hotel_df = city_df [['City', 'Country', 'Lat', 'Lng', 'Humidity']].copy()\n",
    "hotel_df[\"Hotel Name\"] = \"\"\n",
    "\n",
    "hotel_df\n"
   ]
  },
  {
   "cell_type": "code",
   "execution_count": null,
   "metadata": {},
   "outputs": [],
   "source": [
    "# Add an empty column, \"Hotel Name,\" to the DataFrame so you can store the hotel found using the Geoapify API\n",
    "#hotel_df['Hotel Name'] = pd.Series(dtype=str)\n",
    "\n",
    "# display the updated DataFrame to verify the new column was added\n",
    "hotel_df"
   ]
  },
  {
   "cell_type": "code",
   "execution_count": null,
   "metadata": {},
   "outputs": [],
   "source": []
  },
  {
   "cell_type": "markdown",
   "metadata": {},
   "source": [
    "### Step 4: For each city, use the Geoapify API to find the first hotel located within 10,000 metres of your coordinates."
   ]
  },
  {
   "cell_type": "code",
   "execution_count": null,
   "metadata": {},
   "outputs": [],
   "source": [
    "# Define the API endpoint and parameters\n",
    "url = \"https://api.geoapify.com/v2/places\"\n",
    "params = {\n",
    "    \"categories\": \"accommodation.hotel\",\n",
    "    \"limit\": 10,\n",
    "    \"apiKey\": geoapify_key\n",
    "}\n",
    "\n",
    "for i in range(len(hotel_df)):\n",
    "    Lat = hotel_df.loc[i, \"Lat\"]\n",
    "    Lon = hotel_df.loc[i, \"Lng\"]\n",
    "    params[\"filter\"]=f\"circle:{Lon},{Lat},10000\"\n",
    "    params[\"bias\"] = f\"proximity:{Lon},{Lat}\"\n",
    "    response = requests.get(url, params=params).json()\n",
    "    try:\n",
    "        hotel_name = response[\"features\"][0][\"properties\"][\"name\"]\n",
    "        hotel_df.loc[i, \"Hotel Name\"] = hotel_name\n",
    "    except:\n",
    "        hotel_df.loc[i, \"Hotel Name\"] = \"No Hotel Found\"\n",
    "    print(f\"{hotel_df.loc[i,'Hotel Name']}\")\n"
   ]
  },
  {
   "cell_type": "markdown",
   "metadata": {},
   "source": [
    "### Step 5: Add the hotel name and the country as additional information in the hover message for each city in the map."
   ]
  },
  {
   "cell_type": "code",
   "execution_count": null,
   "metadata": {},
   "outputs": [],
   "source": [
    "import plotly.graph_objs as go\n",
    "\n",
    "# Initialize the figure with the mapbox style and center it on the first city in the city_df DataFrame\n",
    "fig = go.Figure(go.Scattermapbox(\n",
    "        lat=city_df[\"Lat\"],\n",
    "        lon=city_df[\"Lng\"],\n",
    "        mode='markers',\n",
    "        marker=dict(size=10, color='blue'),\n",
    "        text=city_data_df[\"City\"],\n",
    "        hovertemplate=\"<b>%{text}</b><br><br>\" +\n",
    "                      \"Lat: %{lat:.2f}<br>\" +\n",
    "                      \"Lng: %{lng:.2f}<br>\" +\n",
    "                      \"<extra></extra>\"\n",
    "))\n",
    "\n",
    "# Create a list to hold the hover text\n",
    "hover_text = []\n",
    "\n",
    "# Iterate through the hotel_df DataFrame and add the hotel name and country to the hover text\n",
    "for index, row in hotel_df.iterrows():\n",
    "    hover_text.append(f\"{row['Hotel Name']}, {row['Country']}\")\n",
    "\n",
    "# Create a Scattermapbox trace for the hotels\n",
    "hotel_trace = go.Scattermapbox(\n",
    "    lat=hotel_df[\"Lat\"],\n",
    "    lon=hotel_df[\"Lng\"],\n",
    "    mode=\"markers\",\n",
    "    marker=dict(\n",
    "        size=10,\n",
    "        color=\"blue\",\n",
    "    ),\n",
    "    text=hover_text, # Use the hover_text list for the hover text\n",
    ")\n",
    "\n",
    "# Add the trace to the figure and show the figure\n",
    "fig.add_trace(hotel_trace)\n",
    "fig.show()\n"
   ]
  },
  {
   "cell_type": "code",
   "execution_count": null,
   "metadata": {},
   "outputs": [],
   "source": [
    "import plotly.graph_objs as go\n",
    "\n",
    "# Create a list to hold the hover text\n",
    "hover_text = []\n",
    "\n",
    "# Iterate through the hotel_df DataFrame and add the hotel name and country to the hover text\n",
    "for index, row in hotel_df.iterrows():\n",
    "    hover_text.append(f\"{row['Hotel Name']}, {row['Country']}\")\n",
    "\n",
    "# Create a Scattermapbox trace for the hotels\n",
    "hotel_trace = go.Scattermapbox(\n",
    "    lat=hotel_df[\"Lat\"],\n",
    "    lon=hotel_df[\"Lng\"],\n",
    "    marker=dict(\n",
    "        size=10,\n",
    "        color=\"red\",\n",
    "    ),\n",
    "    text=hover_text, # Use the hover_text list for the hover text\n",
    ")\n",
    "\n",
    "# Add the trace to the figure and show the figure\n",
    "fig.add_trace(hotel_trace)\n",
    "fig.show()\n"
   ]
  },
  {
   "cell_type": "code",
   "execution_count": null,
   "metadata": {},
   "outputs": [],
   "source": []
  }
 ],
 "metadata": {
  "kernelspec": {
   "display_name": "PythonData",
   "language": "python",
   "name": "pythondata"
  },
  "language_info": {
   "codemirror_mode": {
    "name": "ipython",
    "version": 3
   },
   "file_extension": ".py",
   "mimetype": "text/x-python",
   "name": "python",
   "nbconvert_exporter": "python",
   "pygments_lexer": "ipython3",
   "version": "3.7.7"
  },
  "latex_envs": {
   "LaTeX_envs_menu_present": true,
   "autoclose": false,
   "autocomplete": true,
   "bibliofile": "biblio.bib",
   "cite_by": "apalike",
   "current_citInitial": 1,
   "eqLabelWithNumbers": true,
   "eqNumInitial": 1,
   "hotkeys": {
    "equation": "Ctrl-E",
    "itemize": "Ctrl-I"
   },
   "labels_anchors": false,
   "latex_user_defs": false,
   "report_style_numbering": false,
   "user_envs_cfg": false
  }
 },
 "nbformat": 4,
 "nbformat_minor": 4
}
